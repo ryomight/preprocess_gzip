{
 "cells": [
  {
   "cell_type": "markdown",
   "id": "708373b3",
   "metadata": {},
   "source": [
    "## 前処理用VMで起動するpythonモジュール\n",
    "- [入出力]\n",
    "    - input2つ\n",
    "        - nyukin.gz\n",
    "        - seikyu.gz\n",
    "    - output\n",
    "        - nyukin_2021XXYY_x.csv (x=0,1,2,3,…,N) Nは最大でも10くらい 3000行ずつ格納\n",
    "        - seikyu_2021XXYY.csv\n",
    "        - configfile.txt 分割数パラメータが入ったファイル正常動作時のみ出力\n",
    "        - XXは月、YYは日を記入\n",
    "        \n",
    "- 想定される入力仕様\n",
    "    - 欠損はないデータのみ動作保証\n",
    "    - 欠損があった場合、エラー出力せずそのままファイル分割、移動    "
   ]
  },
  {
   "cell_type": "code",
   "execution_count": 10,
   "id": "26465c1b",
   "metadata": {},
   "outputs": [],
   "source": [
    "import datetime\n",
    "import os\n",
    "\n",
    "#3rd pirty library\n",
    "import pandas as pd"
   ]
  },
  {
   "cell_type": "code",
   "execution_count": 19,
   "id": "803867c9",
   "metadata": {},
   "outputs": [],
   "source": [
    "#GlobalVariable\n",
    "\n",
    "#storage\n",
    "INPUT_BROB_STORAGE = \"INPUTBROB\"\n",
    "OUTPUT_BROB_STORAGE = \"OUTPUTBROB\"\n",
    "\n",
    "#filename\n",
    "##NYUKIN_NAME = 'nyukin.gz'\n",
    "NYUKIN_NAME = 'sample_submission.csv.gz'\n",
    "SEIKYU_NAME = 'seikyu.gz'\n",
    "SEIKYU_NAME = 'sample_submission.csv.gz'\n",
    "\n",
    "\n",
    "#分割数\n",
    "SPLIT_ROWS = 3000 #N数\n",
    "\n",
    "#格納先フォルダ名の作成\n",
    "# JSTとUTCの差分(日本日時指定)\n",
    "DIFF_JST_FROM_UTC = 9\n",
    "now = datetime.datetime.utcnow() + datetime.timedelta(hours=DIFF_JST_FROM_UTC)\n",
    "today = str(now.year) + str(now.month)+ str(now.day)\n",
    "folder_name = 'INPUT_' + today"
   ]
  },
  {
   "cell_type": "code",
   "execution_count": 24,
   "id": "256dcd52",
   "metadata": {},
   "outputs": [],
   "source": [
    "#nyukin\n",
    "if os.path.exists(INPUT_BROB_STORAGE+'/'+today+'/'+NYUKIN_NAME):\n",
    "\n",
    "    nyukin_df = pd.read_csv(INPUT_BROB_STORAGE+'/'+today+'/'+NYUKIN_NAME)\n",
    "    \n",
    "    ##不要列名削除\n",
    "    ##preprocessor\n",
    "    \n",
    "    ##ファイル分割数取得\n",
    "    file_split_num = (len(nyukin_df)+SPLIT_ROWS-1) // SPLIT_ROWS\n",
    "\n",
    "    #分割/出力\n",
    "    for i in range(file_split_num):\n",
    "        split_nyukin = nyukin_df.iloc[SPLIT_ROWS*i:SPLIT_ROWS*(i+1),:]\n",
    "        split_nyukin.to_csv(OUTPUT_BROB_STORAGE+'/'+today +'/' + 'nyukin_%s.csv' % i)\n",
    "        \n",
    "else :\n",
    "    #エラー処理入れること\n",
    "    print('error')\n",
    "\n",
    "\n",
    "#seikyu\n",
    "if os.path.exists(INPUT_BROB_STORAGE+'/'+today+'/'+SEIKYU_NAME):\n",
    "    ##gzip解凍\n",
    "    seikyu_df = pd.read_csv(INPUT_BROB_STORAGE+'/'+today+'/'+SEIKYU_NAME)\n",
    "    seikyu_df.to_csv(OUTPUT_BROB_STORAGE+'/'+today +'/'+'seikyu.csv')\n",
    "    ##不要列名削除\n",
    "    ##preprocessor\n",
    "else :\n",
    "    #エラー処理入れること\n",
    "    pass\n",
    "\n",
    "#configfile出力\n",
    "f = open(OUTPUT_BROB_STORAGE+'/'+today +'/'+'config.txt', 'w')\n",
    "f.write(str(file_split_num))\n",
    "f.close()"
   ]
  }
 ],
 "metadata": {
  "kernelspec": {
   "display_name": "Python 3",
   "language": "python",
   "name": "python3"
  },
  "language_info": {
   "codemirror_mode": {
    "name": "ipython",
    "version": 3
   },
   "file_extension": ".py",
   "mimetype": "text/x-python",
   "name": "python",
   "nbconvert_exporter": "python",
   "pygments_lexer": "ipython3",
   "version": "3.8.8"
  }
 },
 "nbformat": 4,
 "nbformat_minor": 5
}
